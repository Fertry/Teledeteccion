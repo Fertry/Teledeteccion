{
 "cells": [
  {
   "cell_type": "code",
   "execution_count": 1,
   "metadata": {},
   "outputs": [
    {
     "data": {
      "text/plain": [
       "'\\nAlejandro Fernández Trigo\\n'"
      ]
     },
     "execution_count": 1,
     "metadata": {},
     "output_type": "execute_result"
    }
   ],
   "source": [
    "'''\n",
    "Alejandro Fernández Trigo\n",
    "'''"
   ]
  },
  {
   "cell_type": "code",
   "execution_count": 2,
   "metadata": {},
   "outputs": [],
   "source": [
    "import cv2 as cv\n",
    "import numpy as np\n",
    "import matplotlib.pyplot as plt"
   ]
  },
  {
   "cell_type": "code",
   "execution_count": 3,
   "metadata": {},
   "outputs": [],
   "source": [
    "# Cargamos una imagen (en mi caso es la nº 10):\n",
    "imagen_real = cv.imread('img/10_NorthCarolina.jpg',cv.IMREAD_GRAYSCALE)"
   ]
  },
  {
   "cell_type": "code",
   "execution_count": 4,
   "metadata": {},
   "outputs": [],
   "source": [
    "# Cargamos las mismas funciones del ejercicio 1 a continuación:\n",
    "\n",
    "# Función de filtro:\n",
    "def funcion_filtro(img, filtro):\n",
    "    \n",
    "    # Copiar la imagen:\n",
    "    imagen = img.copy()\n",
    "    \n",
    "    # Calcular cuantos píxeles deben setearse en cero:\n",
    "    n_ceros = int(len(filtro)/2)\n",
    "    #print(n_ceros)\n",
    "    \n",
    "    # Setear a cero los bordes (tanto como n_ceros) de la imagen:\n",
    "    for i in range(len(imagen)):\n",
    "        # Filas\n",
    "        if(i < n_ceros):\n",
    "            imagen[i] = 0\n",
    "            imagen[-(i+1)] = 0\n",
    "        # Columnas\n",
    "        for j in range(n_ceros):\n",
    "            imagen[i][j] = 0\n",
    "            imagen[i][-(j+1)] = 0\n",
    "            \n",
    "    # Modificar la imagen con bordes a cero aplicando el filtro:\n",
    "    for i in range(len(imagen)):\n",
    "        for j in range(len(imagen[i])):\n",
    "            '''\n",
    "            Solo modificamos aquellos píxeles que:\n",
    "                * No sean cero\n",
    "                * No salgan del rango de la imagen\n",
    "            '''\n",
    "            if(i==0 or j==0 or i==len(imagen)-1 or j==len(imagen[i])-1):\n",
    "                imagen = imagen\n",
    "            else:\n",
    "                # Actualiza imagen[i][j] con el valor filtrado:\n",
    "                imagen[i][j] = aplica_filtro(img, i, j, filtro)\n",
    "\n",
    "    return imagen\n",
    "\n",
    "# Función que aplica el filtro sobre la imagen dada:\n",
    "''' \n",
    "Recibe:\n",
    "    * Imagen\n",
    "    * Índices\n",
    "    * Filtro\n",
    "'''\n",
    "def aplica_filtro(img, i, j, filtro):\n",
    "    \n",
    "    valor=0\n",
    "    \n",
    "    # Calcular las dimensiones del filtro para determinar el offset:\n",
    "    offsetF = int(len(filtro)/2)\n",
    "    offsetC = int(len(filtro)/2)\n",
    "    \n",
    "    # Calcular las dimensiones del filtro:\n",
    "    fc = int(len(filtro)/2)\n",
    "    cc = int(len(filtro)/2)\n",
    "    \n",
    "    # El offset por filas y columnas nos indica los píxeles vecinos que modificamos\n",
    "    for n in range(-offsetF, offsetF+1):\n",
    "        for m in range(-offsetC, offsetC+1):\n",
    "            valor += img[i+n][j+m] * filtro[fc+n][cc+m]\n",
    "\n",
    "    # El sumatorio del filtro lo calculo con numpy\n",
    "    return np.round(valor/np.sum(filtro))"
   ]
  },
  {
   "cell_type": "code",
   "execution_count": 5,
   "metadata": {},
   "outputs": [],
   "source": [
    "# Definimos los filtros del ejercicio 2:\n",
    "media = np.array([\n",
    "    [1,1,1],\n",
    "    [1,1,1],\n",
    "    [1,1,1]\n",
    "])\n",
    "\n",
    "media_imagen = np.array([\n",
    "    [1,1,1],\n",
    "    [1,2,1],\n",
    "    [1,1,1]\n",
    "])\n",
    "\n",
    "gauss = np.array([\n",
    "    [1,2,1],\n",
    "    [2,4,2],\n",
    "    [1,2,1]\n",
    "])"
   ]
  },
  {
   "cell_type": "code",
   "execution_count": 6,
   "metadata": {},
   "outputs": [
    {
     "data": {
      "text/plain": [
       "<matplotlib.image.AxesImage at 0x1437adf1900>"
      ]
     },
     "execution_count": 6,
     "metadata": {},
     "output_type": "execute_result"
    },
    {
     "data": {
      "image/png": "[encoded data removed]",
      "text/plain": [
       "<Figure size 640x480 with 4 Axes>"
      ]
     },
     "metadata": {},
     "output_type": "display_data"
    }
   ],
   "source": [
    "# Para probar la funcionalidad uso la misma matriz del ejercicio 1 en lugar de una imagen (demasiado grande):\n",
    "matriz_prueba = np.array([\n",
    "    [12,14,17,24,32,30],\n",
    "    [19,18,17,26,36,40],\n",
    "    [26,21,17,28,40,42],\n",
    "    [20,19,18,26,33,35],\n",
    "    [14,17,20,23,27,20],\n",
    "    [35,14,22,13,40,21]\n",
    "])\n",
    "\n",
    "# Imagen real (matriz de prueba):\n",
    "fig, axs = plt.subplots(2,2)\n",
    "axs[0,0].imshow(matriz_prueba, cmap='gray')\n",
    "\n",
    "# Filtro media:\n",
    "filtro_media = funcion_filtro(matriz_prueba, media)\n",
    "axs[0,1].imshow(filtro_media, cmap='gray')\n",
    "\n",
    "# Filtro media_imagen:\n",
    "filtro_media_imagen = funcion_filtro(matriz_prueba, media_imagen)\n",
    "axs[1,0].imshow(filtro_media_imagen, cmap='gray')\n",
    "\n",
    "# Filtro gauss:\n",
    "filtro_gauss = funcion_filtro(matriz_prueba, gauss)\n",
    "axs[1,1].imshow(filtro_gauss, cmap='gray')"
   ]
  },
  {
   "cell_type": "code",
   "execution_count": 8,
   "metadata": {},
   "outputs": [
    {
     "data": {
      "text/plain": [
       "'\\n    ¡NO EJECUTAR!\\n¡ESTO TARDA MUCHÍSIMO!\\n'"
      ]
     },
     "execution_count": 8,
     "metadata": {},
     "output_type": "execute_result"
    }
   ],
   "source": [
    "'''\n",
    "    ¡NO EJECUTAR!\n",
    "¡ESTO TARDA MUCHÍSIMO!\n",
    "'''\n",
    "\n",
    "# Aplicamos los tres filtros sobre la imagen (no la matriz pequeña):\n",
    "\n",
    "# Imagen real:\n",
    "fig, axs = plt.subplots(2,2)\n",
    "axs[0,0].imshow(imagen_real, cmap='gray')\n",
    "\n",
    "# Filtro media:\n",
    "filtro_media = funcion_filtro(imagen_real, media)\n",
    "axs[0,1].imshow(filtro_media, cmap='gray')\n",
    "\n",
    "# Filtro media_imagen:\n",
    "filtro_media_imagen = funcion_filtro(imagen_real, media_imagen)\n",
    "axs[1,0].imshow(filtro_media_imagen, cmap='gray')\n",
    "\n",
    "# Filtro gauss:\n",
    "filtro_gauss = funcion_filtro(imagen_real, gauss)\n",
    "axs[1,1].imshow(filtro_gauss, cmap='gray')"
   ]
  },
  {
   "cell_type": "code",
   "execution_count": null,
   "metadata": {},
   "outputs": [],
   "source": []
  }
 ],
 "metadata": {
  "kernelspec": {
   "display_name": "Python 3.10.4 64-bit",
   "language": "python",
   "name": "python3"
  },
  "language_info": {
   "codemirror_mode": {
    "name": "ipython",
    "version": 3
   },
   "file_extension": ".py",
   "mimetype": "text/x-python",
   "name": "python",
   "nbconvert_exporter": "python",
   "pygments_lexer": "ipython3",
   "version": "3.10.4"
  },
  "vscode": {
   "interpreter": {
    "hash": "d4a79ae9cfdb2ed5f26f551a0c28945c2180245b057d0bc799e41e8dc3a4f6ed"
   }
  }
 },
 "nbformat": 4,
 "nbformat_minor": 4
}
