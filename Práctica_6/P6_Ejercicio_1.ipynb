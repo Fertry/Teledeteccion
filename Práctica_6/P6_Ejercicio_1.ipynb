{
 "cells": [
  {
   "cell_type": "code",
   "execution_count": null,
   "metadata": {},
   "outputs": [],
   "source": [
    "'''\n",
    "Alejandro Fernández Trigo\n",
    "'''"
   ]
  },
  {
   "cell_type": "code",
   "execution_count": 24,
   "metadata": {},
   "outputs": [],
   "source": [
    "import cv2 as cv\n",
    "import numpy as np\n",
    "import matplotlib.pyplot as plt"
   ]
  },
  {
   "cell_type": "code",
   "execution_count": 54,
   "metadata": {},
   "outputs": [],
   "source": [
    "# Función isodata\n",
    "'''\n",
    "COMO SE TRATA DE UN PROCESO ITERATIVO, SEPARO LA PARTE QUE SE REPITE VARIAS VECES DE LA FUNCIÓN ORIGINAL.\n",
    "C SIEMPRE VA A SER 4 EN ESTE EJERCICIO. \n",
    "'''\n",
    "def isodata(imagen, C):\n",
    "    \n",
    "    # Matriz de ceros dada por el enunicado:\n",
    "    m = np.zeros((C, imagen.shape[2]))\n",
    "    \n",
    "    # Imagen \"vacía\" sobre la que trabajamos:\n",
    "    resultado = np.ones((imagen.shape[0], imagen.shape[1]), dtype = int)\n",
    "    \n",
    "    # Centros \"\"aleatorios\"\" para las clases (dado por el enunciado)\n",
    "    # Los valores son los índices RGB pero vienen prefijados!\n",
    "    m[0,:] = (30., 60., 30.)\n",
    "    m[1,:] = (60., 70., 30.)\n",
    "    m[2,:] = (20., 40., 20.)\n",
    "    m[3,:] = (100., 150., 40.)\n",
    "    \n",
    "    # Aquí comienza la clasificación: \n",
    "    # LE HE PUESTO UN LÍMITE DE ITERACIONES POR SI ACASO\n",
    "    limite = 0\n",
    "    clasificado = False\n",
    "    lista_resultados = []\n",
    "    while (limite < 10):\n",
    "\n",
    "        print(\"Iteración nº \" + str(limite))\n",
    "        print(\"Centros\" + str(m))\n",
    "\n",
    "        # Calcula la distancia y llama a la funcion que asigna los ND a los clusters:\n",
    "        distancias = distancia_euclidea(imagen, m)\n",
    "        print(\"Distancias calculadas: \" + str(distancias))\n",
    "        resultado = clasifica(resultado, distancias)\n",
    "        # Si la clasificación no cambia, seguimos iterando:\n",
    "        if len(lista_resultados) != 0:\n",
    "            clasificado = compara(resultado, lista_resultados[0])\n",
    "            if clasificado == True:\n",
    "                return resultado\n",
    "            else:\n",
    "                lista_resultados.pop()\n",
    "\n",
    "        # Me quedo con la clasificación como un diccionario:\n",
    "        clasificacion = agrupa(imagen, resultado, C)\n",
    "        print(\"Clasificación: \" + str(clasificacion))\n",
    "        \n",
    "        # ¡ACTUALIZO LOS CENTROS!\n",
    "        m = recalcula(clasificacion, imagen, resultado, m, C)\n",
    "                \n",
    "        limite = limite + 1\n",
    "        lista_resultados.append(resultado)\n",
    "\n",
    "    # Devolver la imagen\n",
    "    return resultado\n",
    "\n",
    "# Función que dadas las distancias asigna cada ND a un cluster:\n",
    "def clasifica(resultado, distancias):\n",
    "\n",
    "    for i in range(resultado.shape[0]):\n",
    "        for j in range(resultado.shape[1]):\n",
    "                \n",
    "            lista_distancia = distancias[(i,j)]\n",
    "            minima_distancia = min(lista_distancia)\n",
    "            # Actualiza resultado con el valor del cluster al que queda asignado:\n",
    "            resultado[i][j] = lista_distancia.index(minima_distancia)\n",
    "            \n",
    "    return resultado\n",
    "\n",
    "# Función que extrae los ND una vez asignados:\n",
    "def agrupa(imagen, resultado, C):\n",
    "        \n",
    "    clasificacion = {}\n",
    "    for cluster in range(C):\n",
    "        valores = []\n",
    "        for i in range(resultado.shape[0]):\n",
    "            for j in range(resultado.shape[1]):\n",
    "                if resultado[i][j] == cluster:\n",
    "                    valores.append(imagen[i][j])\n",
    "                    clasificacion[cluster] = valores\n",
    "\n",
    "    return clasificacion\n",
    "\n",
    "# Función que compara un resultado guardado con otro nuevo:\n",
    "def compara(nuevo, antiguo):\n",
    "\n",
    "    print(\"Resultado actual: \" + str(antiguo))\n",
    "    print(\"Resultado nuevo: \" + str(nuevo))\n",
    "    igual = False\n",
    "    for i in range(antiguo.shape[0]):\n",
    "        for j in range(antiguo.shape[1]):\n",
    "            if antiguo[i][j] == nuevo[i][j]:\n",
    "                igual = True\n",
    "\n",
    "    return igual\n",
    "\n",
    "# Función que recalcula los centros:\n",
    "def recalcula(clasificacion, imagen, resultado, centros, C):\n",
    "\n",
    "    # Calcular el valor medio de todos los puntos (centro incluido) pero\n",
    "    # POR CLASE, esto es, tomar los píxeles de la clase X y calculo la media de \n",
    "    # estos entre el total de esa clase => ESTO ES EL NUEVO CENTRO\n",
    "    medias = calcula_media(clasificacion, centros)\n",
    "    print(\"Medias calculadas: \" + str(medias))\n",
    "\n",
    "    '''\n",
    "    Como me estoy comiendo chorrocientos mil trillones de errores por culpa de la clasificación que hace,\n",
    "    no recalculo en base a la constante C, sino que voy a observar cuantos valores diferentes (clusters\n",
    "    reales) ha localizado en la imagen original, de lo contrario me como errores de índices; de esa forma\n",
    "    queda un código que funciona. \n",
    "    '''\n",
    "    lista = []\n",
    "    for i in range(resultado.shape[0]):\n",
    "        for j in range(resultado.shape[1]):\n",
    "            lista.append(resultado[i][j])\n",
    "    \n",
    "    n_clusters = np.unique(lista)\n",
    "\n",
    "    # Con las medias actualiza los centros que son ternas de valores RGB: la media ya está calculada\n",
    "    nuevo_centro = np.zeros((C, imagen.shape[2]))\n",
    "\n",
    "    for c in n_clusters:\n",
    "        nuevo_centro[c,:] = medias[c]\n",
    "\n",
    "    return nuevo_centro\n",
    "\n",
    "# Función que calcule la media:\n",
    "def calcula_media(clasificacion, centros):\n",
    "\n",
    "    medias = {}\n",
    "    valores = []\n",
    "    for cluster in clasificacion:\n",
    "        suma = 0\n",
    "        valores = clasificacion[cluster]\n",
    "        for valor in valores:\n",
    "            suma = suma + valor\n",
    "        medias[cluster] = suma // len(valores)\n",
    "    \n",
    "    return medias\n",
    "\n",
    "# Función que calcula la distancia euclídea en tres dimensiones porque se trata de RGB:\n",
    "def distancia_euclidea(imagen, matriz_centros):\n",
    "    \n",
    "    # Los centros actuales vienen dados por la matriz m del enunciado (prefijados)\n",
    "    # Monto un diccionario para almacenar la distancia a cada centro de cada ND como una lista:\n",
    "    distancias = {}\n",
    "    #for i in range(imagen.shape[0]):\n",
    "       # for j in range(imagen.shape[1]):\n",
    "         #   distancias[(i,j)] = []\n",
    "    \n",
    "    # Calcular las distancias eucledianas entre los ND y los centros (fijados):\n",
    "    for i in range(imagen.shape[0]):\n",
    "        for j in range(imagen.shape[1]):\n",
    "            for centro in matriz_centros:\n",
    "                lista = []\n",
    "                # Distancia de ese ND al centro:\n",
    "                lista.append(calculo_distancia(i, j, imagen, centro))\n",
    "            distancias[(i,j)] = lista\n",
    "    \n",
    "    '''\n",
    "    for centro in matriz_centros:\n",
    "        for i in range(imagen.shape[0]):\n",
    "            for j in range(imagen.shape[1]):\n",
    "                lista = []\n",
    "                # Distancia de ese ND al centro:\n",
    "                lista.append(calculo_distancia(i, j, imagen, centro))\n",
    "            distancias[(i,j)] = lista\n",
    "    '''        \n",
    "    return distancias\n",
    "\n",
    "# Función que hace el cálculo euclídeo por separado:\n",
    "def calculo_distancia(i,j, imagen, centro):\n",
    "    # Raiz cuadrada de la suma de los cuadrados de las diferencias entre el punto de la imagen y el centro:\n",
    "    # OJO que centro también es una matriz\n",
    "    # Me quedo con el valor entero\n",
    "    return int(np.sqrt( ((imagen[i][j][0] - centro[0])**2) + ((imagen[i][j][1] - centro[1])**2) + ((imagen[i][j][2] - centro[2])**2) ))\n"
   ]
  },
  {
   "cell_type": "code",
   "execution_count": 26,
   "metadata": {},
   "outputs": [],
   "source": [
    "# No usamos imagen de entrada; sino que creamos una como un degradado 5x5\n",
    "# dado por el enunciado tal que:\n",
    "tamaño = 5\n",
    "b1 = np.zeros([tamaño, tamaño, 1], dtype = np.uint8)\n",
    "b2 = np.zeros([tamaño, tamaño, 1], dtype = np.uint8)\n",
    "b3 = np.zeros([tamaño, tamaño, 1], dtype = np.uint8)\n",
    "\n",
    "# Son matrices de ceros\n",
    "# print(b1, b2, b3)"
   ]
  },
  {
   "cell_type": "code",
   "execution_count": 27,
   "metadata": {},
   "outputs": [
    {
     "data": {
      "text/plain": [
       "True"
      ]
     },
     "execution_count": 27,
     "metadata": {},
     "output_type": "execute_result"
    },
    {
     "data": {
      "image/png": "[encoded data removed]",
      "text/plain": [
       "<Figure size 640x480 with 1 Axes>"
      ]
     },
     "metadata": {},
     "output_type": "display_data"
    }
   ],
   "source": [
    "# Generamos esa imagen de prueba que se da como:\n",
    "i = 0\n",
    "while i < b1.shape[0]:\n",
    "    j = 0\n",
    "    while j < b1.shape[1]:\n",
    "        b1[i,j] = j * 20 + i * 30\n",
    "        b2[i,j] = j * 12 + i * 40\n",
    "        b3[i,j] = j * 15 + i * 10\n",
    "        j = j + 1\n",
    "    i = i + 1\n",
    "imagen = cv.merge((b1,b2,b3))\n",
    "    \n",
    "# Lo compruebo:\n",
    "plt.imshow(imagen)\n",
    "cv.imwrite(\"salida/1_Degradado.png\", imagen)"
   ]
  },
  {
   "cell_type": "code",
   "execution_count": 55,
   "metadata": {},
   "outputs": [
    {
     "name": "stdout",
     "output_type": "stream",
     "text": [
      "Iteración nº 0\n",
      "Centros[[ 30.  60.  30.]\n",
      " [ 60.  70.  30.]\n",
      " [ 20.  40.  20.]\n",
      " [100. 150.  40.]]\n"
     ]
    },
    {
     "ename": "TypeError",
     "evalue": "'int' object is not iterable",
     "output_type": "error",
     "traceback": [
      "\u001b[1;31m---------------------------------------------------------------------------\u001b[0m",
      "\u001b[1;31mTypeError\u001b[0m                                 Traceback (most recent call last)",
      "\u001b[1;32me:\\Repositorios\\Teledeteccion_2022_L1\\Práctica_6\\P6_Ejercicio_1.ipynb Celda 6\u001b[0m in \u001b[0;36m<cell line: 2>\u001b[1;34m()\u001b[0m\n\u001b[0;32m      <a href='vscode-notebook-cell:/e%3A/Repositorios/Teledeteccion_2022_L1/Pr%C3%A1ctica_6/P6_Ejercicio_1.ipynb#W5sZmlsZQ%3D%3D?line=0'>1</a>\u001b[0m \u001b[39m# Pruebo isodata sobre este degradado: el enunciado indica C=4\u001b[39;00m\n\u001b[1;32m----> <a href='vscode-notebook-cell:/e%3A/Repositorios/Teledeteccion_2022_L1/Pr%C3%A1ctica_6/P6_Ejercicio_1.ipynb#W5sZmlsZQ%3D%3D?line=1'>2</a>\u001b[0m imagen_isodata \u001b[39m=\u001b[39m isodata(imagen, \u001b[39m4\u001b[39;49m)\n\u001b[0;32m      <a href='vscode-notebook-cell:/e%3A/Repositorios/Teledeteccion_2022_L1/Pr%C3%A1ctica_6/P6_Ejercicio_1.ipynb#W5sZmlsZQ%3D%3D?line=2'>3</a>\u001b[0m plt\u001b[39m.\u001b[39mimshow(imagen_isodata)\n\u001b[0;32m      <a href='vscode-notebook-cell:/e%3A/Repositorios/Teledeteccion_2022_L1/Pr%C3%A1ctica_6/P6_Ejercicio_1.ipynb#W5sZmlsZQ%3D%3D?line=3'>4</a>\u001b[0m cv\u001b[39m.\u001b[39mimwrite(\u001b[39m\"\u001b[39m\u001b[39msalida/1_Clasificado.png\u001b[39m\u001b[39m\"\u001b[39m, imagen_isodata)\n",
      "\u001b[1;32me:\\Repositorios\\Teledeteccion_2022_L1\\Práctica_6\\P6_Ejercicio_1.ipynb Celda 6\u001b[0m in \u001b[0;36misodata\u001b[1;34m(imagen, C)\u001b[0m\n\u001b[0;32m     <a href='vscode-notebook-cell:/e%3A/Repositorios/Teledeteccion_2022_L1/Pr%C3%A1ctica_6/P6_Ejercicio_1.ipynb#W5sZmlsZQ%3D%3D?line=28'>29</a>\u001b[0m \u001b[39mprint\u001b[39m(\u001b[39m\"\u001b[39m\u001b[39mCentros\u001b[39m\u001b[39m\"\u001b[39m \u001b[39m+\u001b[39m \u001b[39mstr\u001b[39m(m))\n\u001b[0;32m     <a href='vscode-notebook-cell:/e%3A/Repositorios/Teledeteccion_2022_L1/Pr%C3%A1ctica_6/P6_Ejercicio_1.ipynb#W5sZmlsZQ%3D%3D?line=30'>31</a>\u001b[0m \u001b[39m# Calcula la distancia y llama a la funcion que asigna los ND a los clusters:\u001b[39;00m\n\u001b[1;32m---> <a href='vscode-notebook-cell:/e%3A/Repositorios/Teledeteccion_2022_L1/Pr%C3%A1ctica_6/P6_Ejercicio_1.ipynb#W5sZmlsZQ%3D%3D?line=31'>32</a>\u001b[0m distancias \u001b[39m=\u001b[39m distancia_euclidea(imagen, m)\n\u001b[0;32m     <a href='vscode-notebook-cell:/e%3A/Repositorios/Teledeteccion_2022_L1/Pr%C3%A1ctica_6/P6_Ejercicio_1.ipynb#W5sZmlsZQ%3D%3D?line=32'>33</a>\u001b[0m \u001b[39mprint\u001b[39m(\u001b[39m\"\u001b[39m\u001b[39mDistancias calculadas: \u001b[39m\u001b[39m\"\u001b[39m \u001b[39m+\u001b[39m \u001b[39mstr\u001b[39m(distancias))\n\u001b[0;32m     <a href='vscode-notebook-cell:/e%3A/Repositorios/Teledeteccion_2022_L1/Pr%C3%A1ctica_6/P6_Ejercicio_1.ipynb#W5sZmlsZQ%3D%3D?line=33'>34</a>\u001b[0m resultado \u001b[39m=\u001b[39m clasifica(resultado, distancias)\n",
      "\u001b[1;32me:\\Repositorios\\Teledeteccion_2022_L1\\Práctica_6\\P6_Ejercicio_1.ipynb Celda 6\u001b[0m in \u001b[0;36mdistancia_euclidea\u001b[1;34m(imagen, matriz_centros)\u001b[0m\n\u001b[0;32m    <a href='vscode-notebook-cell:/e%3A/Repositorios/Teledeteccion_2022_L1/Pr%C3%A1ctica_6/P6_Ejercicio_1.ipynb#W5sZmlsZQ%3D%3D?line=144'>145</a>\u001b[0m distancias \u001b[39m=\u001b[39m {}\n\u001b[0;32m    <a href='vscode-notebook-cell:/e%3A/Repositorios/Teledeteccion_2022_L1/Pr%C3%A1ctica_6/P6_Ejercicio_1.ipynb#W5sZmlsZQ%3D%3D?line=145'>146</a>\u001b[0m \u001b[39m#for i in range(imagen.shape[0]):\u001b[39;00m\n\u001b[0;32m    <a href='vscode-notebook-cell:/e%3A/Repositorios/Teledeteccion_2022_L1/Pr%C3%A1ctica_6/P6_Ejercicio_1.ipynb#W5sZmlsZQ%3D%3D?line=146'>147</a>\u001b[0m    \u001b[39m# for j in range(imagen.shape[1]):\u001b[39;00m\n\u001b[0;32m    <a href='vscode-notebook-cell:/e%3A/Repositorios/Teledeteccion_2022_L1/Pr%C3%A1ctica_6/P6_Ejercicio_1.ipynb#W5sZmlsZQ%3D%3D?line=147'>148</a>\u001b[0m      \u001b[39m#   distancias[(i,j)] = []\u001b[39;00m\n\u001b[0;32m    <a href='vscode-notebook-cell:/e%3A/Repositorios/Teledeteccion_2022_L1/Pr%C3%A1ctica_6/P6_Ejercicio_1.ipynb#W5sZmlsZQ%3D%3D?line=148'>149</a>\u001b[0m \n\u001b[0;32m    <a href='vscode-notebook-cell:/e%3A/Repositorios/Teledeteccion_2022_L1/Pr%C3%A1ctica_6/P6_Ejercicio_1.ipynb#W5sZmlsZQ%3D%3D?line=149'>150</a>\u001b[0m \u001b[39m# Calcular las distancias eucledianas entre los ND y los centros (fijados):\u001b[39;00m\n\u001b[1;32m--> <a href='vscode-notebook-cell:/e%3A/Repositorios/Teledeteccion_2022_L1/Pr%C3%A1ctica_6/P6_Ejercicio_1.ipynb#W5sZmlsZQ%3D%3D?line=150'>151</a>\u001b[0m \u001b[39mfor\u001b[39;00m (i,j) \u001b[39min\u001b[39;00m \u001b[39mzip\u001b[39;49m(imagen\u001b[39m.\u001b[39;49mshape[\u001b[39m0\u001b[39;49m], imagen\u001b[39m.\u001b[39;49mshape[\u001b[39m1\u001b[39;49m]):\n\u001b[0;32m    <a href='vscode-notebook-cell:/e%3A/Repositorios/Teledeteccion_2022_L1/Pr%C3%A1ctica_6/P6_Ejercicio_1.ipynb#W5sZmlsZQ%3D%3D?line=151'>152</a>\u001b[0m     \u001b[39mfor\u001b[39;00m centro \u001b[39min\u001b[39;00m matriz_centros:\n\u001b[0;32m    <a href='vscode-notebook-cell:/e%3A/Repositorios/Teledeteccion_2022_L1/Pr%C3%A1ctica_6/P6_Ejercicio_1.ipynb#W5sZmlsZQ%3D%3D?line=152'>153</a>\u001b[0m         lista \u001b[39m=\u001b[39m []\n",
      "\u001b[1;31mTypeError\u001b[0m: 'int' object is not iterable"
     ]
    }
   ],
   "source": [
    "# Pruebo isodata sobre este degradado: el enunciado indica C=4\n",
    "imagen_isodata = isodata(imagen, 4)\n",
    "plt.imshow(imagen_isodata)\n",
    "cv.imwrite(\"salida/1_Clasificado.png\", imagen_isodata)"
   ]
  },
  {
   "cell_type": "code",
   "execution_count": 137,
   "metadata": {},
   "outputs": [],
   "source": [
    "# El enunciado provee una función seudocolor para colorear el resultado\n",
    "# con un seudocolor tal que:\n",
    "def seudo(imagen):\n",
    "    \n",
    "    resultado = np.zeros((imagen.shape[0], imagen.shape[1], 3), np.uint8)\n",
    "    \n",
    "    i = 0\n",
    "    while i < imagen.shape[0]:\n",
    "        j = 0\n",
    "        while j < imagen.shape[1]:\n",
    "            if imagen[i,j] == 0:\n",
    "                resultado[i,j,:] = [255,0,0]\n",
    "            elif imagen[i,j] == 1:\n",
    "                resultado[i,j,:] = [0,255,0]\n",
    "            elif imagen[i,j] == 2:\n",
    "                resultado[i,j,:] = [0,0,255]\n",
    "            elif imagen[i,j] == 3:\n",
    "                resultado[i,j,:] = [255,255,0]                \n",
    "            elif imagen[i,j] == 4:\n",
    "                resultado[i,j,:] = [0,255,255]\n",
    "            elif imagen[i,j] == 5:\n",
    "                resultado[i,j,:] = [255,0,255]\n",
    "            else:\n",
    "                resultado[i,j,:] = [0,0,0]\n",
    "            j = j + 1\n",
    "        i = i + 1\n",
    "    return resultado"
   ]
  },
  {
   "cell_type": "code",
   "execution_count": 139,
   "metadata": {},
   "outputs": [
    {
     "data": {
      "text/plain": [
       "<matplotlib.image.AxesImage at 0x212b3f425f0>"
      ]
     },
     "execution_count": 139,
     "metadata": {},
     "output_type": "execute_result"
    },
    {
     "data": {
      "image/png": "[encoded data removed]",
      "text/plain": [
       "<Figure size 640x480 with 1 Axes>"
      ]
     },
     "metadata": {},
     "output_type": "display_data"
    }
   ],
   "source": [
    "# Aplicando seudocolor al resultado de isodata para pintar la clasificación:\n",
    "coloreado = seudo(imagen_isodata)\n",
    "plt.imshow(coloreado)\n",
    "cv.imwrite(\"salida/1_Clasificado_y_Coloreado.png\", coloreado)"
   ]
  },
  {
   "cell_type": "code",
   "execution_count": null,
   "metadata": {},
   "outputs": [],
   "source": []
  }
 ],
 "metadata": {
  "kernelspec": {
   "display_name": "Python 3.10.5 64-bit",
   "language": "python",
   "name": "python3"
  },
  "language_info": {
   "codemirror_mode": {
    "name": "ipython",
    "version": 3
   },
   "file_extension": ".py",
   "mimetype": "text/x-python",
   "name": "python",
   "nbconvert_exporter": "python",
   "pygments_lexer": "ipython3",
   "version": "3.10.5"
  },
  "vscode": {
   "interpreter": {
    "hash": "d4a79ae9cfdb2ed5f26f551a0c28945c2180245b057d0bc799e41e8dc3a4f6ed"
   }
  }
 },
 "nbformat": 4,
 "nbformat_minor": 4
}
