{
 "cells": [
  {
   "cell_type": "code",
   "execution_count": null,
   "metadata": {},
   "outputs": [],
   "source": [
    "'''\n",
    "Alejandro Fernández Trigo\n",
    "'''"
   ]
  },
  {
   "cell_type": "code",
   "execution_count": 1,
   "metadata": {},
   "outputs": [],
   "source": [
    "import cv2 as cv\n",
    "import numpy as np\n",
    "import matplotlib.pyplot as plt"
   ]
  },
  {
   "cell_type": "code",
   "execution_count": 2,
   "metadata": {},
   "outputs": [],
   "source": [
    "# No es necesario ninguna imagen; en este ejercicio trabajamos solo con una matriz de prueba!\n",
    "# imagen = cv.imread('img/10_NorthCarolina.jpg',cv.IMREAD_GRAYSCALE)"
   ]
  },
  {
   "cell_type": "code",
   "execution_count": 3,
   "metadata": {},
   "outputs": [],
   "source": [
    "# Matriz de ejemplo del enunciado:\n",
    "matriz_ejemplo = np.array([\n",
    "    [1,1,1,3],\n",
    "    [2,1,1,1],\n",
    "    [3,2,1,1],\n",
    "    [1,1,1,2],\n",
    "])"
   ]
  },
  {
   "cell_type": "code",
   "execution_count": 4,
   "metadata": {},
   "outputs": [],
   "source": [
    "# Máscara del enunciado:\n",
    "mask = np.array([\n",
    "    [1,0,1,1],\n",
    "    [1,0,1,1],\n",
    "    [1,0,1,0],\n",
    "    [1,0,1,0],\n",
    "])"
   ]
  },
  {
   "cell_type": "code",
   "execution_count": 5,
   "metadata": {},
   "outputs": [],
   "source": [
    "# Función máscara: recibe la imagen + máscara\n",
    "def mascara(img, mask):\n",
    "    # Es la multiplicación simple de matrices por la izquierda:\n",
    "    # resultado = img * mask\n",
    "    # SOLO con la misma dimensión!\n",
    "    \n",
    "    # En otro caso, recorrer filas/columnas; en las posiciones\n",
    "    # a cero, hacer cero el resultado:\n",
    "    resultado = img.copy()\n",
    "    for i in range(img.shape[0]):\n",
    "        for j in range(img.shape[1]):\n",
    "            if mask[i][j] == 0:\n",
    "                resultado[i][j] = 0\n",
    "    \n",
    "    return resultado"
   ]
  },
  {
   "cell_type": "code",
   "execution_count": 6,
   "metadata": {},
   "outputs": [
    {
     "name": "stdout",
     "output_type": "stream",
     "text": [
      "Matriz de ejemplo: \n",
      "[[1 1 1 3]\n",
      " [2 1 1 1]\n",
      " [3 2 1 1]\n",
      " [1 1 1 2]]\n",
      "Matriz de ejemplo enmascarada: \n",
      "[[1 0 1 3]\n",
      " [2 0 1 1]\n",
      " [3 0 1 0]\n",
      " [1 0 1 0]]\n"
     ]
    }
   ],
   "source": [
    "print(\"Matriz de ejemplo: \\n\" + str(matriz_ejemplo))\n",
    "print(\"Matriz de ejemplo enmascarada: \\n\" + str(mascara(matriz_ejemplo, mask)))"
   ]
  },
  {
   "cell_type": "code",
   "execution_count": null,
   "metadata": {},
   "outputs": [],
   "source": []
  }
 ],
 "metadata": {
  "kernelspec": {
   "display_name": "Python 3.10.4 64-bit",
   "language": "python",
   "name": "python3"
  },
  "language_info": {
   "codemirror_mode": {
    "name": "ipython",
    "version": 3
   },
   "file_extension": ".py",
   "mimetype": "text/x-python",
   "name": "python",
   "nbconvert_exporter": "python",
   "pygments_lexer": "ipython3",
   "version": "3.10.4"
  },
  "vscode": {
   "interpreter": {
    "hash": "d4a79ae9cfdb2ed5f26f551a0c28945c2180245b057d0bc799e41e8dc3a4f6ed"
   }
  }
 },
 "nbformat": 4,
 "nbformat_minor": 4
}
